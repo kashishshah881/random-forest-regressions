{
 "cells": [
  {
   "cell_type": "code",
   "execution_count": 1,
   "metadata": {},
   "outputs": [
    {
     "name": "stderr",
     "output_type": "stream",
     "text": [
      "/usr/local/lib/python3.7/site-packages/fix_yahoo_finance/__init__.py:0: DeprecationWarning: \n",
      "\n",
      "*** `fix_yahoo_finance` was renamed to `yfinance`. ***\n",
      "Please install and use `yfinance` directly using `pip install yfinance -U`\n",
      "\n",
      "More information: https://github.com/ranaroussi/yfinance\n",
      "\n"
     ]
    },
    {
     "name": "stdout",
     "output_type": "stream",
     "text": [
      "Try inputting com\n",
      "Enter a stock: AAPL\n",
      "[*********************100%***********************]  1 of 1 downloaded\n",
      "              Open    High     Low   Close  Adj Close    Volume Source\n",
      "Date                                                                  \n",
      "2018-12-24  148.15  151.55  146.59  146.83     144.66  37169200  Yahoo\n",
      "2018-12-26  148.30  157.23  146.72  157.17     154.84  58582500  Yahoo\n",
      "2018-12-27  155.84  156.77  150.07  156.15     153.84  53117100  Yahoo\n",
      "2018-12-28  157.50  158.52  154.55  156.23     153.92  42291400  Yahoo\n",
      "2018-12-31  158.53  159.36  156.48  157.74     155.41  35003500  Yahoo\n"
     ]
    }
   ],
   "source": [
    "import quantrautil as q\n",
    "import numpy as np\n",
    "import matplotlib.pyplot as plt\n",
    "from sklearn.ensemble import RandomForestClassifier\n",
    "print(\"Try inputting com\")\n",
    "stock = input(\"Enter a stock: \")\n",
    "data = q.get_data(stock,'2005-2-1','2019-1-1')\n",
    "print(data.tail())"
   ]
  },
  {
   "cell_type": "markdown",
   "metadata": {},
   "source": [
    " In this step, I will create the input and output variable.\n",
    "Input variable: I have used '(Open - Close)/Open', '(High - Low)/Low', standard deviation of last 5 days returns (std_5), and average of last 5 days returns (ret_5)\n",
    "Output variable: If tomorrow’s close price is greater than today's close price then the output variable is set to 1 and otherwise set to -1. 1 indicates to buy the stock and -1 indicates to sell the stock."
   ]
  },
  {
   "cell_type": "code",
   "execution_count": 2,
   "metadata": {},
   "outputs": [],
   "source": [
    "# Features construction \n",
    "data['Open-Close'] = (data.Open - data.Close)/data.Open\n",
    "data['High-Low'] = (data.High - data.Low)/data.Low\n",
    "data['percent_change'] = data['Adj Close'].pct_change()\n",
    "data['std_5'] = data['percent_change'].rolling(5).std()\n",
    "data['ret_5'] = data['percent_change'].rolling(5).mean()\n",
    "data.dropna(inplace=True)\n",
    "\n",
    "# X is the input variable\n",
    "X = data[['Open-Close', 'High-Low','std_5','ret_5','Open','Close']]\n",
    "\n",
    "# Y is the target or output variable\n",
    "# Here if the next day adj close is higher than the previous day then its 1 otherwise a 0\n",
    "y = np.where(data['Adj Close'].shift(-1) > data['Adj Close'], 1, 0)\n"
   ]
  },
  {
   "cell_type": "code",
   "execution_count": 3,
   "metadata": {},
   "outputs": [
    {
     "data": {
      "text/plain": [
       "3148"
      ]
     },
     "execution_count": 3,
     "metadata": {},
     "output_type": "execute_result"
    }
   ],
   "source": [
    "# Total dataset length\n",
    "dataset_length = data.shape[0]\n",
    "\n",
    "# Training dataset length\n",
    "split = int(dataset_length * 0.9)\n",
    "split"
   ]
  },
  {
   "cell_type": "code",
   "execution_count": 4,
   "metadata": {},
   "outputs": [
    {
     "name": "stdout",
     "output_type": "stream",
     "text": [
      "(3148, 6) (350, 6)\n",
      "(3148,) (350,)\n"
     ]
    }
   ],
   "source": [
    "# Splitiing the X and y into train and test datasets\n",
    "X_train, X_test = X[:split], X[split:]\n",
    "y_train, y_test = y[:split], y[split:]\n",
    "\n",
    "# Print the size of the train and test dataset\n",
    "print(X_train.shape, X_test.shape)\n",
    "print(y_train.shape, y_test.shape)"
   ]
  },
  {
   "cell_type": "code",
   "execution_count": 5,
   "metadata": {},
   "outputs": [
    {
     "data": {
      "text/plain": [
       "53.42857142857142"
      ]
     },
     "execution_count": 5,
     "metadata": {},
     "output_type": "execute_result"
    }
   ],
   "source": [
    "clf = RandomForestClassifier(n_estimators=20,random_state=None)\n",
    "model = clf.fit(X_train, y_train)\n",
    "\n",
    "import numpy as np\n",
    "\n",
    "# Use the forest's predict method on the test data\n",
    "predictions = clf.predict(X_test)\n",
    "\n",
    "# Calculate the absolute errors\n",
    "errors = abs(predictions - y_test)\n",
    "\n",
    "# Print out the mean absolute error (mae)\n",
    "round(np.mean(errors), 2)\n",
    "\n",
    "from sklearn.metrics import accuracy_score\n",
    "accuracy_score(y_test, model.predict(X_test), normalize=True)*100.0"
   ]
  },
  {
   "cell_type": "code",
   "execution_count": 6,
   "metadata": {},
   "outputs": [
    {
     "data": {
      "text/plain": [
       "[('ret_5', 0.1765979991173427),\n",
       " ('Open-Close', 0.17577328068373618),\n",
       " ('High-Low', 0.17485754827686767),\n",
       " ('std_5', 0.1669158989060926),\n",
       " ('Open', 0.1563402582438707),\n",
       " ('Close', 0.14951501477209023)]"
      ]
     },
     "execution_count": 6,
     "metadata": {},
     "output_type": "execute_result"
    }
   ],
   "source": [
    "sorted(zip(X.columns, clf.feature_importances_),\n",
    "        key=lambda x: x[1], reverse=True)"
   ]
  },
  {
   "cell_type": "code",
   "execution_count": 7,
   "metadata": {},
   "outputs": [],
   "source": [
    "data['strategy_returns_on_adj_close'] = data.ret_5.shift(-1) * model.predict(X)"
   ]
  },
  {
   "cell_type": "code",
   "execution_count": 8,
   "metadata": {
    "scrolled": true
   },
   "outputs": [
    {
     "data": {
      "image/png": "[encoded data removed]",
      "text/plain": [
       "<Figure size 432x288 with 1 Axes>"
      ]
     },
     "metadata": {
      "needs_background": "light"
     },
     "output_type": "display_data"
    }
   ],
   "source": [
    "(data.strategy_returns_on_adj_close[split:]+1).cumprod().plot()\n",
    "plt.ylabel('Strategy returns (%)')\n",
    "plt.show()"
   ]
  },
  {
   "cell_type": "code",
   "execution_count": null,
   "metadata": {},
   "outputs": [],
   "source": []
  }
 ],
 "metadata": {
  "kernelspec": {
   "display_name": "Python 3",
   "language": "python",
   "name": "python3"
  },
  "language_info": {
   "codemirror_mode": {
    "name": "ipython",
    "version": 3
   },
   "file_extension": ".py",
   "mimetype": "text/x-python",
   "name": "python",
   "nbconvert_exporter": "python",
   "pygments_lexer": "ipython3",
   "version": "3.7.4"
  }
 },
 "nbformat": 4,
 "nbformat_minor": 2
}
